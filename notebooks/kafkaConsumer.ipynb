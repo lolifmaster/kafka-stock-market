{
 "cells": [
  {
   "cell_type": "code",
   "execution_count": 25,
   "metadata": {
    "collapsed": true,
    "ExecuteTime": {
     "end_time": "2023-09-02T23:56:20.864819600Z",
     "start_time": "2023-09-02T23:56:20.864819600Z"
    }
   },
   "outputs": [],
   "source": [
    "from kafka import KafkaConsumer\n",
    "from random import randint\n",
    "from dotenv import load_dotenv\n",
    "import os\n",
    "from azure.storage.blob import BlobServiceClient"
   ]
  },
  {
   "cell_type": "code",
   "execution_count": 17,
   "outputs": [
    {
     "data": {
      "text/plain": "True"
     },
     "execution_count": 17,
     "metadata": {},
     "output_type": "execute_result"
    }
   ],
   "source": [
    "load_dotenv()"
   ],
   "metadata": {
    "collapsed": false,
    "ExecuteTime": {
     "end_time": "2023-09-02T23:54:29.984989900Z",
     "start_time": "2023-09-02T23:54:29.982331300Z"
    }
   }
  },
  {
   "cell_type": "code",
   "execution_count": 19,
   "outputs": [],
   "source": [
    "consumer = KafkaConsumer(\n",
    "    'demoTest',\n",
    "     bootstrap_servers=[os.getenv(\"VM_PUBLIC_IP_ADDRESS\")],)"
   ],
   "metadata": {
    "collapsed": false,
    "ExecuteTime": {
     "end_time": "2023-09-02T23:54:45.962077600Z",
     "start_time": "2023-09-02T23:54:45.719668200Z"
    }
   }
  },
  {
   "cell_type": "code",
   "execution_count": 20,
   "outputs": [],
   "source": [
    "# for message in consumer:\n",
    "#     print(message.value)\n",
    "#     sleep(1)"
   ],
   "metadata": {
    "collapsed": false,
    "ExecuteTime": {
     "end_time": "2023-09-02T23:54:46.885627200Z",
     "start_time": "2023-09-02T23:54:46.885627200Z"
    }
   }
  },
  {
   "cell_type": "code",
   "execution_count": 21,
   "outputs": [
    {
     "name": "stdout",
     "output_type": "stream",
     "text": [
      "{'name': 'kafka-stocks', 'last_modified': datetime.datetime(2023, 9, 2, 23, 46, 57, tzinfo=datetime.timezone.utc), 'etag': '\"0x8DBAC0EE4E37D20\"', 'lease': {'status': 'unlocked', 'state': 'available', 'duration': None}, 'public_access': None, 'has_immutability_policy': False, 'deleted': None, 'version': None, 'has_legal_hold': False, 'metadata': None, 'encryption_scope': <azure.storage.blob._models.ContainerEncryptionScope object at 0x00000297B6745FD0>, 'immutable_storage_with_versioning_enabled': False}\n"
     ]
    }
   ],
   "source": [
    "blob_service_client = BlobServiceClient.from_connection_string(os.getenv('AZURE_STORAGE_BLOB_CONNECTION_STRING'))\n",
    "containers = blob_service_client.list_containers()\n",
    "for container in containers:\n",
    "    print(container)"
   ],
   "metadata": {
    "collapsed": false,
    "ExecuteTime": {
     "end_time": "2023-09-02T23:54:48.087767700Z",
     "start_time": "2023-09-02T23:54:47.735240200Z"
    }
   }
  },
  {
   "cell_type": "code",
   "execution_count": 22,
   "outputs": [
    {
     "name": "stdout",
     "output_type": "stream",
     "text": [
      "kafka-stocks\n"
     ]
    }
   ],
   "source": [
    "container_client = blob_service_client.get_container_client(\"kafka-stocks\")\n",
    "print(container_client.container_name)"
   ],
   "metadata": {
    "collapsed": false,
    "ExecuteTime": {
     "end_time": "2023-09-02T23:54:50.791268400Z",
     "start_time": "2023-09-02T23:54:50.778961200Z"
    }
   }
  },
  {
   "cell_type": "code",
   "execution_count": null,
   "outputs": [],
   "source": [
    "for count, i in enumerate(consumer):\n",
    "    container_client.upload_blob(name=f\"kafka-stock-{count}-{randint(a=1, b=5000)}.txt\", data=i.value)"
   ],
   "metadata": {
    "collapsed": false,
    "is_executing": true,
    "ExecuteTime": {
     "start_time": "2023-09-02T23:56:25.635951300Z"
    }
   }
  },
  {
   "cell_type": "code",
   "execution_count": null,
   "outputs": [],
   "source": [],
   "metadata": {
    "collapsed": false
   }
  }
 ],
 "metadata": {
  "kernelspec": {
   "display_name": "Python 3",
   "language": "python",
   "name": "python3"
  },
  "language_info": {
   "codemirror_mode": {
    "name": "ipython",
    "version": 2
   },
   "file_extension": ".py",
   "mimetype": "text/x-python",
   "name": "python",
   "nbconvert_exporter": "python",
   "pygments_lexer": "ipython2",
   "version": "2.7.6"
  }
 },
 "nbformat": 4,
 "nbformat_minor": 0
}
